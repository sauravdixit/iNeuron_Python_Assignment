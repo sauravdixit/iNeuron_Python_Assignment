{
 "cells": [
  {
   "cell_type": "markdown",
   "id": "12629c07",
   "metadata": {},
   "source": [
    "1. \n",
    "\n",
    "  * - operator\n",
    "  'hello' - value\n",
    "  -87.8 - value\n",
    "  - - expression\n",
    "  / - expression\n",
    "  + - expression\n",
    "  6 - value"
   ]
  },
  {
   "cell_type": "markdown",
   "id": "5d3cb3e5",
   "metadata": {},
   "source": []
  },
  {
   "cell_type": "markdown",
   "id": "a0c1a376",
   "metadata": {},
   "source": [
    "2.\n",
    "\n",
    "   Variables - It is a symbol or object where we can store data in a program.\n",
    "   String - It is one type of data that we can store in the variable. "
   ]
  },
  {
   "cell_type": "markdown",
   "id": "4689e5e5",
   "metadata": {},
   "source": []
  },
  {
   "cell_type": "markdown",
   "id": "c33eb97f",
   "metadata": {},
   "source": [
    "3.\n",
    "    Integer - Integer is one data type that represents real numbers without decimal values.\n",
    "    Float - Float represents real numbers in decimal values\n",
    "    String - String can represent a character of a sequence of characters"
   ]
  },
  {
   "cell_type": "markdown",
   "id": "3fe54458",
   "metadata": {},
   "source": []
  },
  {
   "cell_type": "markdown",
   "id": "e81b598b",
   "metadata": {},
   "source": [
    "4.\n",
    "    An expression is made up of a combination of variables and operators. Expression interpretes this combination to produce another value"
   ]
  },
  {
   "cell_type": "markdown",
   "id": "3db3dec5",
   "metadata": {},
   "source": []
  },
  {
   "cell_type": "markdown",
   "id": "8c1eb78e",
   "metadata": {},
   "source": [
    "5. \n",
    "\n",
    "   An expression is something that interprets the combination of variables and operators to return a value. \n",
    "   While the statement is just a unit of execution and doesn't return the value."
   ]
  },
  {
   "cell_type": "markdown",
   "id": "d6e775fb",
   "metadata": {},
   "source": []
  },
  {
   "cell_type": "markdown",
   "id": "d9508914",
   "metadata": {},
   "source": [
    "6. \n",
    "   bacon = 22\n",
    "   bacon + 1\n",
    "   \n",
    "   First the bacon stores the value 22 and then the second statement increases the value of this variable by 1 to      give the final result 23."
   ]
  },
  {
   "cell_type": "markdown",
   "id": "655e7614",
   "metadata": {},
   "source": []
  },
  {
   "cell_type": "markdown",
   "id": "e8af1f6c",
   "metadata": {},
   "source": [
    "7.   \n",
    "   'spam' + 'spamspam' ----- 'spamspamspam'\n",
    "   'spam' * 3 ----- 'spamspamspam'"
   ]
  },
  {
   "cell_type": "markdown",
   "id": "48d6e6c2",
   "metadata": {},
   "source": []
  },
  {
   "cell_type": "markdown",
   "id": "5f0fac86",
   "metadata": {},
   "source": [
    "8. \n",
    "\n",
    "   A variable name can contain both letters and numbers but cannot start with a number. Hence eggs is a valid variable name but 100 is not since it starts with a number.\n",
    "   "
   ]
  },
  {
   "cell_type": "markdown",
   "id": "4471a0a3",
   "metadata": {},
   "source": []
  },
  {
   "cell_type": "markdown",
   "id": "fd8706f9",
   "metadata": {},
   "source": [
    "9. \n",
    "\n",
    "  int()\n",
    "  float()\n",
    "  string()"
   ]
  },
  {
   "cell_type": "markdown",
   "id": "91e3c285",
   "metadata": {},
   "source": []
  },
  {
   "cell_type": "markdown",
   "id": "a890d43b",
   "metadata": {},
   "source": [
    "10. \n",
    "    'I have eaten' + 99 + ' burritos' -- It gives an error because it can only concatenate string and not integer. This can be fixed by keeping 99 as string. Below is the fix.\n",
    "    \n",
    "    'I have eaten' + ' 99' + ' burritos'\n",
    "   "
   ]
  },
  {
   "cell_type": "code",
   "execution_count": null,
   "id": "dec36229",
   "metadata": {},
   "outputs": [],
   "source": []
  }
 ],
 "metadata": {
  "kernelspec": {
   "display_name": "Python 3 (ipykernel)",
   "language": "python",
   "name": "python3"
  },
  "language_info": {
   "codemirror_mode": {
    "name": "ipython",
    "version": 3
   },
   "file_extension": ".py",
   "mimetype": "text/x-python",
   "name": "python",
   "nbconvert_exporter": "python",
   "pygments_lexer": "ipython3",
   "version": "3.9.12"
  }
 },
 "nbformat": 4,
 "nbformat_minor": 5
}
