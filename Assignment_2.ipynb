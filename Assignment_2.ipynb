{
 "cells": [
  {
   "cell_type": "markdown",
   "id": "7aa133ba",
   "metadata": {},
   "source": [
    "1. Two values of boolean data type are True and False\n",
    "\n",
    "   \n",
    "   a = True\n",
    "   b = False"
   ]
  },
  {
   "cell_type": "markdown",
   "id": "d008fbdd",
   "metadata": {},
   "source": [
    "2. Three different type of operators are AND, OR and NOT"
   ]
  },
  {
   "cell_type": "markdown",
   "id": "4682020f",
   "metadata": {},
   "source": [
    "3. x =0 y =0 x+y =0\n",
    "   x =1 y =0 x+y =1\n",
    "   x =1 y =1 x+y =1\n",
    "   x =0 y =1 x+y =2\n",
    "   \n",
    "   X=False Y=False    XorY=False\n",
    "   X=True  Y=False    XorY=True\n",
    "   X=True  Y=True     XorY=True\n",
    "   X=False Y=True     XorY=True\n",
    "   \n",
    "   X=False Y=False    XandY=False\n",
    "   X=True  Y=False    XandY=False\n",
    "   X=True  Y=True     XandY=True\n",
    "   X=False Y=True     XandY=False\n",
    "   \n",
    "   x =0 y =0 x*y =0\n",
    "   x =1 y =0 x*y =0\n",
    "   x =1 y =1 x*y =0\n",
    "   x =0 y =1 x*y =1\n",
    "   "
   ]
  },
  {
   "cell_type": "markdown",
   "id": "18430b4f",
   "metadata": {},
   "source": [
    "4. (5>4) and (3==5)  - False\n",
    "   not(5>4)  - False\n",
    "   (5>4)or(3==5)   - True\n",
    "   not((5>4) or (3==5))   - False\n",
    "   (True and True) and (True == False)  - False\n",
    "   (not False) or (not True). - True\n",
    "   "
   ]
  },
  {
   "cell_type": "markdown",
   "id": "ab0181c2",
   "metadata": {},
   "source": [
    "5. greater than (>)\n",
    "   less than (<)\n",
    "   greater than or equal to (>=)\n",
    "   less than or equal to (<=)\n",
    "   equal to (==)\n",
    "   not equal to (!=)"
   ]
  },
  {
   "cell_type": "markdown",
   "id": "e019c209",
   "metadata": {},
   "source": [
    "6. assignment operator will have 1 equal sign. while equal to will have 2 equal signs. \n",
    "   assignment operator is used when we are assigning a value to the variable. \n",
    "   ex - a = 10. This means we are assigning the value of 10 to variable a.\n",
    "   \n",
    "   equal to operator is used when we are comparing the values.\n",
    "   ex - a == 10. Here it checks if a == 10.\n",
    "   "
   ]
  },
  {
   "cell_type": "markdown",
   "id": "7588ace8",
   "metadata": {},
   "source": [
    "7. spam = 0\n",
    "   if spam == 10:  --- Block1\n",
    "   print('eggs')\n",
    "   if spam > 5:    ---- Block 2\n",
    "   print('bacon')\n",
    "   else:           --- Block 3\n",
    "   print('ham')\n",
    "   print('spam')\n",
    "   print('spam')"
   ]
  },
  {
   "cell_type": "markdown",
   "id": "ac84d3f0",
   "metadata": {},
   "source": [
    "8.\n",
    "\n",
    "spam = 1\n",
    "if spam == 1:\n",
    "    print('Hello')\n",
    "elif spam == 2:\n",
    "    print('Howdy')\n",
    "else:\n",
    "    print('Greetings')\n",
    "\n",
    " "
   ]
  },
  {
   "cell_type": "markdown",
   "id": "92522227",
   "metadata": {},
   "source": [
    "9. CTRL + C"
   ]
  },
  {
   "cell_type": "markdown",
   "id": "15107096",
   "metadata": {},
   "source": [
    "10. Break - it terminates the execution of the current loop and passes the control over the next loop or main body\n",
    "    Continue - it skips the current iteration and executes the next iteration in the loop"
   ]
  },
  {
   "cell_type": "markdown",
   "id": "f0aa2a02",
   "metadata": {},
   "source": [
    "11. range(10) - generate numbers from 0 to 10\n",
    "    range(0,10) - start from 0 and stop at 10\n",
    "    range(0,10,1) - start from 0 and stop at 10 with an increment of 1\n"
   ]
  },
  {
   "cell_type": "markdown",
   "id": "32799340",
   "metadata": {},
   "source": [
    "12. \n",
    "\n",
    "for i in range(10):\n",
    "    print(i)\n",
    "    \n",
    "\n",
    "i = 1\n",
    "while (i<=10):\n",
    "    print(i)\n",
    "    i = i + 1"
   ]
  },
  {
   "cell_type": "markdown",
   "id": "eef664f5",
   "metadata": {},
   "source": [
    "13. spam.bacon()"
   ]
  },
  {
   "cell_type": "code",
   "execution_count": null,
   "id": "b1fe9631",
   "metadata": {},
   "outputs": [],
   "source": []
  }
 ],
 "metadata": {
  "kernelspec": {
   "display_name": "Python 3 (ipykernel)",
   "language": "python",
   "name": "python3"
  },
  "language_info": {
   "codemirror_mode": {
    "name": "ipython",
    "version": 3
   },
   "file_extension": ".py",
   "mimetype": "text/x-python",
   "name": "python",
   "nbconvert_exporter": "python",
   "pygments_lexer": "ipython3",
   "version": "3.9.12"
  }
 },
 "nbformat": 4,
 "nbformat_minor": 5
}
