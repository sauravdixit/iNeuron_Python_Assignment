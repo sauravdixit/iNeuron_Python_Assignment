{
 "cells": [
  {
   "cell_type": "markdown",
   "id": "fc0b2fc3",
   "metadata": {},
   "source": [
    "1. Functions help in reusing the code. Bigger codes could be break down into small codes and makes the program readable. Functions helps look the program structured, understandable and reusable."
   ]
  },
  {
   "cell_type": "markdown",
   "id": "ff4dfdf3",
   "metadata": {},
   "source": [
    "2. The code in a function runs when the program calls it."
   ]
  },
  {
   "cell_type": "markdown",
   "id": "3d275fb9",
   "metadata": {},
   "source": [
    "3. To create a function , we use def followed by the function name and the function body.\n",
    "    Ex :   \n",
    "             def abc():\n",
    "                #function body"
   ]
  },
  {
   "cell_type": "markdown",
   "id": "d49599e6",
   "metadata": {},
   "source": [
    "4. A function is a block of code that performs a specific task when called.\n",
    "   A function call is when we actually execute the code in the function. "
   ]
  },
  {
   "cell_type": "markdown",
   "id": "fc127a0b",
   "metadata": {},
   "source": [
    "5. A python program has one global scopes and multiple local scopes are created whenever a function is called."
   ]
  },
  {
   "cell_type": "markdown",
   "id": "2f1bc296",
   "metadata": {},
   "source": [
    "6. When the execution of the function returns, the local variables are destroyed."
   ]
  },
  {
   "cell_type": "markdown",
   "id": "c9511e42",
   "metadata": {},
   "source": [
    "7. a return value is the value that a function returns when it is called. The return value is the result of the function's computation, and it can be used in an expression or assigned to a variable.\n",
    "   It is also possible to use a return value in an expression.\n",
    "    def multiply_numbers(a, b):\n",
    "    return a * b\n",
    "\n",
    "    result = multiply_numbers(2, 3) + 5\n",
    "    print(result) # Output: 11"
   ]
  },
  {
   "cell_type": "markdown",
   "id": "c413f600",
   "metadata": {},
   "source": [
    "8. None"
   ]
  },
  {
   "cell_type": "markdown",
   "id": "a8b13b8c",
   "metadata": {},
   "source": [
    "9. To create a global variable inside a function, you can use the global keyword"
   ]
  },
  {
   "cell_type": "markdown",
   "id": "8184bb24",
   "metadata": {},
   "source": [
    "10. None is a data type of its own (NoneType) and only None can be None."
   ]
  },
  {
   "cell_type": "markdown",
   "id": "ab2474e0",
   "metadata": {},
   "source": [
    "11. That import statement imports a module named areallyourpetsnamederic"
   ]
  },
  {
   "cell_type": "markdown",
   "id": "9068a882",
   "metadata": {},
   "source": [
    "12. spam.bacon()"
   ]
  },
  {
   "cell_type": "markdown",
   "id": "9685b018",
   "metadata": {},
   "source": [
    "13. o save a program from crashing if it encounters an error, you can use error handling techniques in Python"
   ]
  },
  {
   "cell_type": "markdown",
   "id": "df836cf7",
   "metadata": {},
   "source": [
    "14. The try block tests a block of code for errors. The except block handles the error."
   ]
  }
 ],
 "metadata": {
  "kernelspec": {
   "display_name": "Python 3 (ipykernel)",
   "language": "python",
   "name": "python3"
  },
  "language_info": {
   "codemirror_mode": {
    "name": "ipython",
    "version": 3
   },
   "file_extension": ".py",
   "mimetype": "text/x-python",
   "name": "python",
   "nbconvert_exporter": "python",
   "pygments_lexer": "ipython3",
   "version": "3.9.12"
  }
 },
 "nbformat": 4,
 "nbformat_minor": 5
}
