{
 "cells": [
  {
   "cell_type": "raw",
   "id": "b5f402bc",
   "metadata": {},
   "source": [
    "#1.\n",
    " Empty list value. The list that contains no items in it."
   ]
  },
  {
   "cell_type": "raw",
   "id": "f2046f4b",
   "metadata": {},
   "source": [
    "#2.\n",
    "spam = [2,4,6,8,10]\n",
    "spam[2] = 'hello'"
   ]
  },
  {
   "cell_type": "raw",
   "id": "2756ce1a",
   "metadata": {},
   "source": [
    "#3.\n",
    "spam = ['a','b','c','d']\n",
    "\n",
    "spam[int(int('3'*2)/11)]  - 'd'"
   ]
  },
  {
   "cell_type": "raw",
   "id": "780dce3e",
   "metadata": {},
   "source": [
    "#4.\n",
    "spam[-1]  - 'd'"
   ]
  },
  {
   "cell_type": "raw",
   "id": "df964fff",
   "metadata": {},
   "source": [
    "#5.\n",
    "\n",
    "spam[:2] - ['a','b']"
   ]
  },
  {
   "cell_type": "raw",
   "id": "fc6025f0",
   "metadata": {},
   "source": [
    "#6. \n",
    "bacon = [3.14, 'cat', 11, 'cat', True]\n",
    "\n",
    "bacon.index('cat')  - 1"
   ]
  },
  {
   "cell_type": "raw",
   "id": "0f9a0307",
   "metadata": {},
   "source": [
    "#7.\n",
    "\n",
    "[3.14,'cat',11,'cat',True,99]"
   ]
  },
  {
   "cell_type": "raw",
   "id": "c53b84a4",
   "metadata": {},
   "source": [
    "# 8. \n",
    "\n",
    "[3.14,11,'cat',True,99]"
   ]
  },
  {
   "cell_type": "raw",
   "id": "f0852198",
   "metadata": {},
   "source": [
    "#9.\n",
    "\n",
    "concatenation : +\n",
    "replication : *"
   ]
  },
  {
   "cell_type": "raw",
   "id": "e3bae77f",
   "metadata": {},
   "source": [
    "#10.\n",
    "\n",
    "append - adds item in the end of the list\n",
    "insert - adds item in the specified position in the list"
   ]
  },
  {
   "cell_type": "raw",
   "id": "a16f801c",
   "metadata": {},
   "source": [
    "#11.\n",
    "\n",
    "pop() and remove()"
   ]
  },
  {
   "cell_type": "raw",
   "id": "915c8b50",
   "metadata": {},
   "source": [
    "#12.\n",
    "\n",
    "Both are ordered collection of characters"
   ]
  },
  {
   "cell_type": "raw",
   "id": "89cd08ea",
   "metadata": {},
   "source": [
    "#13.\n",
    "\n",
    "Lists are mutable while tuples are immutable"
   ]
  },
  {
   "cell_type": "raw",
   "id": "20e3929f",
   "metadata": {},
   "source": [
    "#14.\n",
    "\n",
    "t = (42)"
   ]
  },
  {
   "cell_type": "raw",
   "id": "53b929b0",
   "metadata": {},
   "source": [
    "#15.\n",
    "\n",
    "l = [1,2,3,4]\n",
    "tuple(l)\n",
    "\n",
    "t = (3,4,5,6)\n",
    "list(t)"
   ]
  },
  {
   "cell_type": "raw",
   "id": "82d7c799",
   "metadata": {},
   "source": [
    "#16.\n",
    "\n",
    "References to the list values."
   ]
  },
  {
   "cell_type": "raw",
   "id": "6d5cbc16",
   "metadata": {},
   "source": [
    "#17.\n",
    "\n",
    " copy.copy() - it creates a new object but doesn't recursively copy the objects contained within the \n",
    "             original object.\n",
    "    \n",
    " copy.deepcopy() - It creates a completely independent copy of the original object, including all the \n",
    "                 objects it contains, and recursively copies all the nested objects."
   ]
  }
 ],
 "metadata": {
  "kernelspec": {
   "display_name": "Python 3 (ipykernel)",
   "language": "python",
   "name": "python3"
  },
  "language_info": {
   "codemirror_mode": {
    "name": "ipython",
    "version": 3
   },
   "file_extension": ".py",
   "mimetype": "text/x-python",
   "name": "python",
   "nbconvert_exporter": "python",
   "pygments_lexer": "ipython3",
   "version": "3.9.12"
  }
 },
 "nbformat": 4,
 "nbformat_minor": 5
}
