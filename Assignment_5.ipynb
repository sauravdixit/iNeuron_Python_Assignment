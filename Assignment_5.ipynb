{
 "cells": [
  {
   "cell_type": "code",
   "execution_count": null,
   "id": "59a1d298",
   "metadata": {},
   "outputs": [],
   "source": [
    "#1. \n",
    "Curly brackets - {}\n",
    "dict = {}"
   ]
  },
  {
   "cell_type": "code",
   "execution_count": null,
   "id": "c6a3320f",
   "metadata": {},
   "outputs": [],
   "source": [
    "#2.\n",
    "Value will be 42"
   ]
  },
  {
   "cell_type": "code",
   "execution_count": null,
   "id": "67b6c0e3",
   "metadata": {},
   "outputs": [],
   "source": [
    "#3.\n",
    "Items in the list will be ordered\n",
    "Items in the dictionary will be unordered"
   ]
  },
  {
   "cell_type": "code",
   "execution_count": null,
   "id": "0eb1166f",
   "metadata": {},
   "outputs": [],
   "source": [
    "#4.\n",
    "It will give KeyError since there is no key in the dictionary with 'foo'"
   ]
  },
  {
   "cell_type": "code",
   "execution_count": 5,
   "id": "359e7cf2",
   "metadata": {},
   "outputs": [],
   "source": [
    "#5.\n",
    "spam={'cat':1000}\n",
    "\n",
    "'cat' in spam returns True\n",
    "'cat' in spam.keys() returns True\n",
    "\n",
    "No difference, both check if 'cat' is one of the keys in spam"
   ]
  },
  {
   "cell_type": "code",
   "execution_count": null,
   "id": "524aaa33",
   "metadata": {},
   "outputs": [],
   "source": [
    "#6.\n",
    "spam={'cat':100}\n",
    "'cat' in spam returns True --- It checks if one of the keys is cat in the dictionary\n",
    "'cat' in spam.values() returns False --- It checks if one of the values in spam dictionary is cat "
   ]
  },
  {
   "cell_type": "code",
   "execution_count": 12,
   "id": "51599001",
   "metadata": {},
   "outputs": [
    {
     "data": {
      "text/plain": [
       "{'cat': 100, 'color': 'black'}"
      ]
     },
     "execution_count": 12,
     "metadata": {},
     "output_type": "execute_result"
    }
   ],
   "source": [
    "#7.\n",
    "spam = {'cat':100}\n",
    "spam.setdefault('color','black')\n",
    "spam"
   ]
  },
  {
   "cell_type": "code",
   "execution_count": 14,
   "id": "6cf22c79",
   "metadata": {},
   "outputs": [
    {
     "name": "stdout",
     "output_type": "stream",
     "text": [
      "{'class attended': [{'English', 'Maths', 'Science'}],\n",
      " 'name': 'Saurav',\n",
      " 'serial no': 123}\n"
     ]
    }
   ],
   "source": [
    "#8.\n",
    "import pprint\n",
    "\n",
    "dict = {'serial no' : 123, 'name':'Saurav',\n",
    "         'class attended' : [{'English','Maths','Science'}]}\n",
    "pprint.pprint(dict)"
   ]
  },
  {
   "cell_type": "code",
   "execution_count": null,
   "id": "ba83929d",
   "metadata": {},
   "outputs": [],
   "source": []
  }
 ],
 "metadata": {
  "kernelspec": {
   "display_name": "Python 3 (ipykernel)",
   "language": "python",
   "name": "python3"
  },
  "language_info": {
   "codemirror_mode": {
    "name": "ipython",
    "version": 3
   },
   "file_extension": ".py",
   "mimetype": "text/x-python",
   "name": "python",
   "nbconvert_exporter": "python",
   "pygments_lexer": "ipython3",
   "version": "3.9.12"
  }
 },
 "nbformat": 4,
 "nbformat_minor": 5
}
